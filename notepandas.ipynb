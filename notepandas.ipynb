{
 "cells": [
  {
   "cell_type": "code",
   "execution_count": 38,
   "metadata": {
    "collapsed": true,
    "ExecuteTime": {
     "end_time": "2023-06-20T15:45:07.408203900Z",
     "start_time": "2023-06-20T15:45:07.240206700Z"
    }
   },
   "outputs": [
    {
     "data": {
      "text/plain": "'D:/'"
     },
     "execution_count": 38,
     "metadata": {},
     "output_type": "execute_result"
    }
   ],
   "source": [
    "import numpy as np\n",
    "import  pandas as pd\n",
    "import matplotlib.pyplot as plt\n",
    "import seaborn as sns\n",
    "\n",
    "dossier ='D:/'\n",
    "dossier"
   ]
  },
  {
   "cell_type": "code",
   "execution_count": null,
   "outputs": [],
   "source": [],
   "metadata": {
    "collapsed": false
   }
  },
  {
   "cell_type": "code",
   "execution_count": 2,
   "outputs": [
    {
     "data": {
      "text/plain": "pandas.core.frame.DataFrame"
     },
     "execution_count": 2,
     "metadata": {},
     "output_type": "execute_result"
    }
   ],
   "source": [
    "movie = pd.read_csv(dossier+'movie.csv')\n",
    "type(movie)"
   ],
   "metadata": {
    "collapsed": false,
    "ExecuteTime": {
     "end_time": "2023-06-20T13:47:52.370494800Z",
     "start_time": "2023-06-20T13:47:52.261343Z"
    }
   }
  },
  {
   "cell_type": "code",
   "execution_count": 2,
   "outputs": [],
   "source": [],
   "metadata": {
    "collapsed": false,
    "ExecuteTime": {
     "end_time": "2023-06-20T13:47:52.371517700Z",
     "start_time": "2023-06-20T13:47:52.346504500Z"
    }
   }
  },
  {
   "cell_type": "code",
   "execution_count": 3,
   "outputs": [
    {
     "data": {
      "text/plain": "   color      director_name  num_critic_for_reviews  duration  \\\n0  Color      James Cameron                   723.0     178.0   \n1  Color     Gore Verbinski                   302.0     169.0   \n2  Color         Sam Mendes                   602.0     148.0   \n3  Color  Christopher Nolan                   813.0     164.0   \n4    NaN        Doug Walker                     NaN       NaN   \n\n   director_facebook_likes  actor_3_facebook_likes      actor_2_name  \\\n0                      0.0                   855.0  Joel David Moore   \n1                    563.0                  1000.0     Orlando Bloom   \n2                      0.0                   161.0      Rory Kinnear   \n3                  22000.0                 23000.0    Christian Bale   \n4                    131.0                     NaN        Rob Walker   \n\n   actor_1_facebook_likes        gross                           genres  ...  \\\n0                  1000.0  760505847.0  Action|Adventure|Fantasy|Sci-Fi  ...   \n1                 40000.0  309404152.0         Action|Adventure|Fantasy  ...   \n2                 11000.0  200074175.0        Action|Adventure|Thriller  ...   \n3                 27000.0  448130642.0                  Action|Thriller  ...   \n4                   131.0          NaN                      Documentary  ...   \n\n  num_user_for_reviews language  country  content_rating       budget  \\\n0               3054.0  English      USA           PG-13  237000000.0   \n1               1238.0  English      USA           PG-13  300000000.0   \n2                994.0  English       UK           PG-13  245000000.0   \n3               2701.0  English      USA           PG-13  250000000.0   \n4                  NaN      NaN      NaN             NaN          NaN   \n\n   title_year actor_2_facebook_likes imdb_score  aspect_ratio  \\\n0      2009.0                  936.0        7.9          1.78   \n1      2007.0                 5000.0        7.1          2.35   \n2      2015.0                  393.0        6.8          2.35   \n3      2012.0                23000.0        8.5          2.35   \n4         NaN                   12.0        7.1           NaN   \n\n  movie_facebook_likes  \n0                33000  \n1                    0  \n2                85000  \n3               164000  \n4                    0  \n\n[5 rows x 28 columns]",
      "text/html": "<div>\n<style scoped>\n    .dataframe tbody tr th:only-of-type {\n        vertical-align: middle;\n    }\n\n    .dataframe tbody tr th {\n        vertical-align: top;\n    }\n\n    .dataframe thead th {\n        text-align: right;\n    }\n</style>\n<table border=\"1\" class=\"dataframe\">\n  <thead>\n    <tr style=\"text-align: right;\">\n      <th></th>\n      <th>color</th>\n      <th>director_name</th>\n      <th>num_critic_for_reviews</th>\n      <th>duration</th>\n      <th>director_facebook_likes</th>\n      <th>actor_3_facebook_likes</th>\n      <th>actor_2_name</th>\n      <th>actor_1_facebook_likes</th>\n      <th>gross</th>\n      <th>genres</th>\n      <th>...</th>\n      <th>num_user_for_reviews</th>\n      <th>language</th>\n      <th>country</th>\n      <th>content_rating</th>\n      <th>budget</th>\n      <th>title_year</th>\n      <th>actor_2_facebook_likes</th>\n      <th>imdb_score</th>\n      <th>aspect_ratio</th>\n      <th>movie_facebook_likes</th>\n    </tr>\n  </thead>\n  <tbody>\n    <tr>\n      <th>0</th>\n      <td>Color</td>\n      <td>James Cameron</td>\n      <td>723.0</td>\n      <td>178.0</td>\n      <td>0.0</td>\n      <td>855.0</td>\n      <td>Joel David Moore</td>\n      <td>1000.0</td>\n      <td>760505847.0</td>\n      <td>Action|Adventure|Fantasy|Sci-Fi</td>\n      <td>...</td>\n      <td>3054.0</td>\n      <td>English</td>\n      <td>USA</td>\n      <td>PG-13</td>\n      <td>237000000.0</td>\n      <td>2009.0</td>\n      <td>936.0</td>\n      <td>7.9</td>\n      <td>1.78</td>\n      <td>33000</td>\n    </tr>\n    <tr>\n      <th>1</th>\n      <td>Color</td>\n      <td>Gore Verbinski</td>\n      <td>302.0</td>\n      <td>169.0</td>\n      <td>563.0</td>\n      <td>1000.0</td>\n      <td>Orlando Bloom</td>\n      <td>40000.0</td>\n      <td>309404152.0</td>\n      <td>Action|Adventure|Fantasy</td>\n      <td>...</td>\n      <td>1238.0</td>\n      <td>English</td>\n      <td>USA</td>\n      <td>PG-13</td>\n      <td>300000000.0</td>\n      <td>2007.0</td>\n      <td>5000.0</td>\n      <td>7.1</td>\n      <td>2.35</td>\n      <td>0</td>\n    </tr>\n    <tr>\n      <th>2</th>\n      <td>Color</td>\n      <td>Sam Mendes</td>\n      <td>602.0</td>\n      <td>148.0</td>\n      <td>0.0</td>\n      <td>161.0</td>\n      <td>Rory Kinnear</td>\n      <td>11000.0</td>\n      <td>200074175.0</td>\n      <td>Action|Adventure|Thriller</td>\n      <td>...</td>\n      <td>994.0</td>\n      <td>English</td>\n      <td>UK</td>\n      <td>PG-13</td>\n      <td>245000000.0</td>\n      <td>2015.0</td>\n      <td>393.0</td>\n      <td>6.8</td>\n      <td>2.35</td>\n      <td>85000</td>\n    </tr>\n    <tr>\n      <th>3</th>\n      <td>Color</td>\n      <td>Christopher Nolan</td>\n      <td>813.0</td>\n      <td>164.0</td>\n      <td>22000.0</td>\n      <td>23000.0</td>\n      <td>Christian Bale</td>\n      <td>27000.0</td>\n      <td>448130642.0</td>\n      <td>Action|Thriller</td>\n      <td>...</td>\n      <td>2701.0</td>\n      <td>English</td>\n      <td>USA</td>\n      <td>PG-13</td>\n      <td>250000000.0</td>\n      <td>2012.0</td>\n      <td>23000.0</td>\n      <td>8.5</td>\n      <td>2.35</td>\n      <td>164000</td>\n    </tr>\n    <tr>\n      <th>4</th>\n      <td>NaN</td>\n      <td>Doug Walker</td>\n      <td>NaN</td>\n      <td>NaN</td>\n      <td>131.0</td>\n      <td>NaN</td>\n      <td>Rob Walker</td>\n      <td>131.0</td>\n      <td>NaN</td>\n      <td>Documentary</td>\n      <td>...</td>\n      <td>NaN</td>\n      <td>NaN</td>\n      <td>NaN</td>\n      <td>NaN</td>\n      <td>NaN</td>\n      <td>NaN</td>\n      <td>12.0</td>\n      <td>7.1</td>\n      <td>NaN</td>\n      <td>0</td>\n    </tr>\n  </tbody>\n</table>\n<p>5 rows × 28 columns</p>\n</div>"
     },
     "execution_count": 3,
     "metadata": {},
     "output_type": "execute_result"
    }
   ],
   "source": [
    "movie.head()\n"
   ],
   "metadata": {
    "collapsed": false,
    "ExecuteTime": {
     "end_time": "2023-06-20T13:47:52.498492500Z",
     "start_time": "2023-06-20T13:47:52.356495800Z"
    }
   }
  },
  {
   "cell_type": "code",
   "execution_count": 4,
   "outputs": [
    {
     "data": {
      "text/plain": "<bound method DataFrame.info of       color      director_name  num_critic_for_reviews  duration  \\\n0     Color      James Cameron                   723.0     178.0   \n1     Color     Gore Verbinski                   302.0     169.0   \n2     Color         Sam Mendes                   602.0     148.0   \n3     Color  Christopher Nolan                   813.0     164.0   \n4       NaN        Doug Walker                     NaN       NaN   \n...     ...                ...                     ...       ...   \n4911  Color        Scott Smith                     1.0      87.0   \n4912  Color                NaN                    43.0      43.0   \n4913  Color   Benjamin Roberds                    13.0      76.0   \n4914  Color        Daniel Hsia                    14.0     100.0   \n4915  Color           Jon Gunn                    43.0      90.0   \n\n      director_facebook_likes  actor_3_facebook_likes      actor_2_name  \\\n0                         0.0                   855.0  Joel David Moore   \n1                       563.0                  1000.0     Orlando Bloom   \n2                         0.0                   161.0      Rory Kinnear   \n3                     22000.0                 23000.0    Christian Bale   \n4                       131.0                     NaN        Rob Walker   \n...                       ...                     ...               ...   \n4911                      2.0                   318.0     Daphne Zuniga   \n4912                      NaN                   319.0     Valorie Curry   \n4913                      0.0                     0.0     Maxwell Moody   \n4914                      0.0                   489.0     Daniel Henney   \n4915                     16.0                    16.0  Brian Herzlinger   \n\n      actor_1_facebook_likes        gross                           genres  \\\n0                     1000.0  760505847.0  Action|Adventure|Fantasy|Sci-Fi   \n1                    40000.0  309404152.0         Action|Adventure|Fantasy   \n2                    11000.0  200074175.0        Action|Adventure|Thriller   \n3                    27000.0  448130642.0                  Action|Thriller   \n4                      131.0          NaN                      Documentary   \n...                      ...          ...                              ...   \n4911                   637.0          NaN                     Comedy|Drama   \n4912                   841.0          NaN     Crime|Drama|Mystery|Thriller   \n4913                     0.0          NaN            Drama|Horror|Thriller   \n4914                   946.0      10443.0             Comedy|Drama|Romance   \n4915                    86.0      85222.0                      Documentary   \n\n      ... num_user_for_reviews language  country  content_rating       budget  \\\n0     ...               3054.0  English      USA           PG-13  237000000.0   \n1     ...               1238.0  English      USA           PG-13  300000000.0   \n2     ...                994.0  English       UK           PG-13  245000000.0   \n3     ...               2701.0  English      USA           PG-13  250000000.0   \n4     ...                  NaN      NaN      NaN             NaN          NaN   \n...   ...                  ...      ...      ...             ...          ...   \n4911  ...                  6.0  English   Canada             NaN          NaN   \n4912  ...                359.0  English      USA           TV-14          NaN   \n4913  ...                  3.0  English      USA             NaN       1400.0   \n4914  ...                  9.0  English      USA           PG-13          NaN   \n4915  ...                 84.0  English      USA              PG       1100.0   \n\n      title_year actor_2_facebook_likes imdb_score  aspect_ratio  \\\n0         2009.0                  936.0        7.9          1.78   \n1         2007.0                 5000.0        7.1          2.35   \n2         2015.0                  393.0        6.8          2.35   \n3         2012.0                23000.0        8.5          2.35   \n4            NaN                   12.0        7.1           NaN   \n...          ...                    ...        ...           ...   \n4911      2013.0                  470.0        7.7           NaN   \n4912         NaN                  593.0        7.5         16.00   \n4913      2013.0                    0.0        6.3           NaN   \n4914      2012.0                  719.0        6.3          2.35   \n4915      2004.0                   23.0        6.6          1.85   \n\n     movie_facebook_likes  \n0                   33000  \n1                       0  \n2                   85000  \n3                  164000  \n4                       0  \n...                   ...  \n4911                   84  \n4912                32000  \n4913                   16  \n4914                  660  \n4915                  456  \n\n[4916 rows x 28 columns]>"
     },
     "execution_count": 4,
     "metadata": {},
     "output_type": "execute_result"
    }
   ],
   "source": [
    "movie.info"
   ],
   "metadata": {
    "collapsed": false,
    "ExecuteTime": {
     "end_time": "2023-06-20T13:47:52.501503200Z",
     "start_time": "2023-06-20T13:47:52.432504600Z"
    }
   }
  },
  {
   "cell_type": "code",
   "execution_count": 5,
   "outputs": [
    {
     "data": {
      "text/plain": "0       English\n1       English\n2       English\n3       English\n4           NaN\n         ...   \n4911    English\n4912    English\n4913    English\n4914    English\n4915    English\nName: language, Length: 4916, dtype: object"
     },
     "execution_count": 5,
     "metadata": {},
     "output_type": "execute_result"
    }
   ],
   "source": [
    "movie.language\n"
   ],
   "metadata": {
    "collapsed": false,
    "ExecuteTime": {
     "end_time": "2023-06-20T13:47:52.601299100Z",
     "start_time": "2023-06-20T13:47:52.483499100Z"
    }
   }
  },
  {
   "cell_type": "code",
   "execution_count": 7,
   "outputs": [
    {
     "data": {
      "text/plain": "Color              4693\nBlack and White     204\nName: color, dtype: int64"
     },
     "execution_count": 7,
     "metadata": {},
     "output_type": "execute_result"
    }
   ],
   "source": [
    "movie['color'].value_counts()"
   ],
   "metadata": {
    "collapsed": false,
    "ExecuteTime": {
     "end_time": "2023-06-20T13:49:15.812264300Z",
     "start_time": "2023-06-20T13:49:15.712274900Z"
    }
   }
  },
  {
   "cell_type": "code",
   "execution_count": 10,
   "outputs": [
    {
     "data": {
      "text/plain": "        director_name  duration      gross                       genres  \\\n4810      John Carney      85.0  9437933.0          Drama|Music|Romance   \n1971  Craig R. Baxley      88.0  9286314.0  Action|Crime|Drama|Thriller   \n\n     movie_title                                      plot_keywords  \\\n4810        Once  immigrant|independent film|song|street|vacuum ...   \n1971  Stone Cold        biker|biker gang|fbi|mississippi|undercover   \n\n          budget  title_year language  imdb_score  \n4810    180000.0      2007.0  English         7.9  \n1971  17000000.0      1991.0  English         5.9  ",
      "text/html": "<div>\n<style scoped>\n    .dataframe tbody tr th:only-of-type {\n        vertical-align: middle;\n    }\n\n    .dataframe tbody tr th {\n        vertical-align: top;\n    }\n\n    .dataframe thead th {\n        text-align: right;\n    }\n</style>\n<table border=\"1\" class=\"dataframe\">\n  <thead>\n    <tr style=\"text-align: right;\">\n      <th></th>\n      <th>director_name</th>\n      <th>duration</th>\n      <th>gross</th>\n      <th>genres</th>\n      <th>movie_title</th>\n      <th>plot_keywords</th>\n      <th>budget</th>\n      <th>title_year</th>\n      <th>language</th>\n      <th>imdb_score</th>\n    </tr>\n  </thead>\n  <tbody>\n    <tr>\n      <th>4810</th>\n      <td>John Carney</td>\n      <td>85.0</td>\n      <td>9437933.0</td>\n      <td>Drama|Music|Romance</td>\n      <td>Once</td>\n      <td>immigrant|independent film|song|street|vacuum ...</td>\n      <td>180000.0</td>\n      <td>2007.0</td>\n      <td>English</td>\n      <td>7.9</td>\n    </tr>\n    <tr>\n      <th>1971</th>\n      <td>Craig R. Baxley</td>\n      <td>88.0</td>\n      <td>9286314.0</td>\n      <td>Action|Crime|Drama|Thriller</td>\n      <td>Stone Cold</td>\n      <td>biker|biker gang|fbi|mississippi|undercover</td>\n      <td>17000000.0</td>\n      <td>1991.0</td>\n      <td>English</td>\n      <td>5.9</td>\n    </tr>\n  </tbody>\n</table>\n</div>"
     },
     "execution_count": 10,
     "metadata": {},
     "output_type": "execute_result"
    }
   ],
   "source": [
    "cols_interest = [\"director_name\", \"duration\", \"gross\", \"genres\",\n",
    "                 'movie_title', \"plot_keywords\",\"budget\", \"title_year\", \"language\", \"imdb_score\"]\n",
    "movie_reduced = movie[cols_interest]\n",
    "movie_reduced.sample(2)"
   ],
   "metadata": {
    "collapsed": false,
    "ExecuteTime": {
     "end_time": "2023-06-20T13:57:18.022027900Z",
     "start_time": "2023-06-20T13:57:17.985002200Z"
    }
   }
  },
  {
   "cell_type": "code",
   "execution_count": 16,
   "outputs": [
    {
     "data": {
      "text/plain": "          director_name  duration        gross  \\\n0         James Cameron     178.0  760505847.0   \n26        James Cameron     194.0  658672302.0   \n29      Colin Trevorrow     124.0  652177271.0   \n17          Joss Whedon     173.0  623279547.0   \n66    Christopher Nolan     152.0  533316061.0   \n237        George Lucas     136.0  474544677.0   \n2973       George Lucas     125.0  460935665.0   \n8           Joss Whedon     141.0  458991599.0   \n3     Christopher Nolan     164.0  448130642.0   \n576      Andrew Adamson      93.0  436471036.0   \n\n                                                 genres  \\\n0                       Action|Adventure|Fantasy|Sci-Fi   \n26                                        Drama|Romance   \n29                     Action|Adventure|Sci-Fi|Thriller   \n17                              Action|Adventure|Sci-Fi   \n66                          Action|Crime|Drama|Thriller   \n237                     Action|Adventure|Fantasy|Sci-Fi   \n2973                    Action|Adventure|Fantasy|Sci-Fi   \n8                               Action|Adventure|Sci-Fi   \n3                                       Action|Thriller   \n576   Adventure|Animation|Comedy|Family|Fantasy|Romance   \n\n                                    movie_title  \\\n0                                        Avatar   \n26                                      Titanic   \n29                               Jurassic World   \n17                                 The Avengers   \n66                              The Dark Knight   \n237   Star Wars: Episode I - The Phantom Menace   \n2973         Star Wars: Episode IV - A New Hope   \n8                       Avengers: Age of Ultron   \n3                         The Dark Knight Rises   \n576                                     Shrek 2   \n\n                                          plot_keywords       budget  \\\n0                avatar|future|marine|native|paraplegic  237000000.0   \n26                         artist|love|ship|titanic|wet  200000000.0   \n29    dinosaur|disaster film|experiment gone wrong|j...  150000000.0   \n17      alien invasion|assassin|battle|iron man|soldier  220000000.0   \n66    based on comic book|dc comics|psychopath|star ...  185000000.0   \n237   alien|character says i have a bad feeling abou...  115000000.0   \n2973  death star|empire|galactic war|princess|rebellion   11000000.0   \n8     artificial intelligence|based on comic book|ca...  250000000.0   \n3     deception|imprisonment|lawlessness|police offi...  250000000.0   \n576   drag queen|physical appearance|princess|queen|...  150000000.0   \n\n      title_year language  imdb_score  \n0         2009.0  English         7.9  \n26        1997.0  English         7.7  \n29        2015.0  English         7.0  \n17        2012.0  English         8.1  \n66        2008.0  English         9.0  \n237       1999.0  English         6.5  \n2973      1977.0  English         8.7  \n8         2015.0  English         7.5  \n3         2012.0  English         8.5  \n576       2004.0  English         7.2  ",
      "text/html": "<div>\n<style scoped>\n    .dataframe tbody tr th:only-of-type {\n        vertical-align: middle;\n    }\n\n    .dataframe tbody tr th {\n        vertical-align: top;\n    }\n\n    .dataframe thead th {\n        text-align: right;\n    }\n</style>\n<table border=\"1\" class=\"dataframe\">\n  <thead>\n    <tr style=\"text-align: right;\">\n      <th></th>\n      <th>director_name</th>\n      <th>duration</th>\n      <th>gross</th>\n      <th>genres</th>\n      <th>movie_title</th>\n      <th>plot_keywords</th>\n      <th>budget</th>\n      <th>title_year</th>\n      <th>language</th>\n      <th>imdb_score</th>\n    </tr>\n  </thead>\n  <tbody>\n    <tr>\n      <th>0</th>\n      <td>James Cameron</td>\n      <td>178.0</td>\n      <td>760505847.0</td>\n      <td>Action|Adventure|Fantasy|Sci-Fi</td>\n      <td>Avatar</td>\n      <td>avatar|future|marine|native|paraplegic</td>\n      <td>237000000.0</td>\n      <td>2009.0</td>\n      <td>English</td>\n      <td>7.9</td>\n    </tr>\n    <tr>\n      <th>26</th>\n      <td>James Cameron</td>\n      <td>194.0</td>\n      <td>658672302.0</td>\n      <td>Drama|Romance</td>\n      <td>Titanic</td>\n      <td>artist|love|ship|titanic|wet</td>\n      <td>200000000.0</td>\n      <td>1997.0</td>\n      <td>English</td>\n      <td>7.7</td>\n    </tr>\n    <tr>\n      <th>29</th>\n      <td>Colin Trevorrow</td>\n      <td>124.0</td>\n      <td>652177271.0</td>\n      <td>Action|Adventure|Sci-Fi|Thriller</td>\n      <td>Jurassic World</td>\n      <td>dinosaur|disaster film|experiment gone wrong|j...</td>\n      <td>150000000.0</td>\n      <td>2015.0</td>\n      <td>English</td>\n      <td>7.0</td>\n    </tr>\n    <tr>\n      <th>17</th>\n      <td>Joss Whedon</td>\n      <td>173.0</td>\n      <td>623279547.0</td>\n      <td>Action|Adventure|Sci-Fi</td>\n      <td>The Avengers</td>\n      <td>alien invasion|assassin|battle|iron man|soldier</td>\n      <td>220000000.0</td>\n      <td>2012.0</td>\n      <td>English</td>\n      <td>8.1</td>\n    </tr>\n    <tr>\n      <th>66</th>\n      <td>Christopher Nolan</td>\n      <td>152.0</td>\n      <td>533316061.0</td>\n      <td>Action|Crime|Drama|Thriller</td>\n      <td>The Dark Knight</td>\n      <td>based on comic book|dc comics|psychopath|star ...</td>\n      <td>185000000.0</td>\n      <td>2008.0</td>\n      <td>English</td>\n      <td>9.0</td>\n    </tr>\n    <tr>\n      <th>237</th>\n      <td>George Lucas</td>\n      <td>136.0</td>\n      <td>474544677.0</td>\n      <td>Action|Adventure|Fantasy|Sci-Fi</td>\n      <td>Star Wars: Episode I - The Phantom Menace</td>\n      <td>alien|character says i have a bad feeling abou...</td>\n      <td>115000000.0</td>\n      <td>1999.0</td>\n      <td>English</td>\n      <td>6.5</td>\n    </tr>\n    <tr>\n      <th>2973</th>\n      <td>George Lucas</td>\n      <td>125.0</td>\n      <td>460935665.0</td>\n      <td>Action|Adventure|Fantasy|Sci-Fi</td>\n      <td>Star Wars: Episode IV - A New Hope</td>\n      <td>death star|empire|galactic war|princess|rebellion</td>\n      <td>11000000.0</td>\n      <td>1977.0</td>\n      <td>English</td>\n      <td>8.7</td>\n    </tr>\n    <tr>\n      <th>8</th>\n      <td>Joss Whedon</td>\n      <td>141.0</td>\n      <td>458991599.0</td>\n      <td>Action|Adventure|Sci-Fi</td>\n      <td>Avengers: Age of Ultron</td>\n      <td>artificial intelligence|based on comic book|ca...</td>\n      <td>250000000.0</td>\n      <td>2015.0</td>\n      <td>English</td>\n      <td>7.5</td>\n    </tr>\n    <tr>\n      <th>3</th>\n      <td>Christopher Nolan</td>\n      <td>164.0</td>\n      <td>448130642.0</td>\n      <td>Action|Thriller</td>\n      <td>The Dark Knight Rises</td>\n      <td>deception|imprisonment|lawlessness|police offi...</td>\n      <td>250000000.0</td>\n      <td>2012.0</td>\n      <td>English</td>\n      <td>8.5</td>\n    </tr>\n    <tr>\n      <th>576</th>\n      <td>Andrew Adamson</td>\n      <td>93.0</td>\n      <td>436471036.0</td>\n      <td>Adventure|Animation|Comedy|Family|Fantasy|Romance</td>\n      <td>Shrek 2</td>\n      <td>drag queen|physical appearance|princess|queen|...</td>\n      <td>150000000.0</td>\n      <td>2004.0</td>\n      <td>English</td>\n      <td>7.2</td>\n    </tr>\n  </tbody>\n</table>\n</div>"
     },
     "execution_count": 16,
     "metadata": {},
     "output_type": "execute_result"
    }
   ],
   "source": [
    "movie_reduced.sort_values('gross',ascending=False)[:10]"
   ],
   "metadata": {
    "collapsed": false,
    "ExecuteTime": {
     "end_time": "2023-06-20T13:59:53.426211100Z",
     "start_time": "2023-06-20T13:59:53.378527800Z"
    }
   }
  },
  {
   "cell_type": "code",
   "execution_count": 18,
   "outputs": [
    {
     "data": {
      "text/plain": "    color      director_name  num_critic_for_reviews  duration  \\\n33  Color         Tim Burton                   451.0     108.0   \n3   Color  Christopher Nolan                   813.0     164.0   \n4     NaN        Doug Walker                     NaN       NaN   \n\n    director_facebook_likes  actor_3_facebook_likes    actor_2_name  \\\n33                  13000.0                 11000.0    Alan Rickman   \n3                   22000.0                 23000.0  Christian Bale   \n4                     131.0                     NaN      Rob Walker   \n\n    actor_1_facebook_likes        gross                    genres  ...  \\\n33                 40000.0  334185206.0  Adventure|Family|Fantasy  ...   \n3                  27000.0  448130642.0           Action|Thriller  ...   \n4                    131.0          NaN               Documentary  ...   \n\n   num_user_for_reviews language  country  content_rating       budget  \\\n33                736.0  English      USA              PG  200000000.0   \n3                2701.0  English      USA           PG-13  250000000.0   \n4                   NaN      NaN      NaN             NaN          NaN   \n\n    title_year actor_2_facebook_likes imdb_score  aspect_ratio  \\\n33      2010.0                25000.0        6.5          1.85   \n3       2012.0                23000.0        8.5          2.35   \n4          NaN                   12.0        7.1           NaN   \n\n   movie_facebook_likes  \n33                24000  \n3                164000  \n4                     0  \n\n[3 rows x 28 columns]",
      "text/html": "<div>\n<style scoped>\n    .dataframe tbody tr th:only-of-type {\n        vertical-align: middle;\n    }\n\n    .dataframe tbody tr th {\n        vertical-align: top;\n    }\n\n    .dataframe thead th {\n        text-align: right;\n    }\n</style>\n<table border=\"1\" class=\"dataframe\">\n  <thead>\n    <tr style=\"text-align: right;\">\n      <th></th>\n      <th>color</th>\n      <th>director_name</th>\n      <th>num_critic_for_reviews</th>\n      <th>duration</th>\n      <th>director_facebook_likes</th>\n      <th>actor_3_facebook_likes</th>\n      <th>actor_2_name</th>\n      <th>actor_1_facebook_likes</th>\n      <th>gross</th>\n      <th>genres</th>\n      <th>...</th>\n      <th>num_user_for_reviews</th>\n      <th>language</th>\n      <th>country</th>\n      <th>content_rating</th>\n      <th>budget</th>\n      <th>title_year</th>\n      <th>actor_2_facebook_likes</th>\n      <th>imdb_score</th>\n      <th>aspect_ratio</th>\n      <th>movie_facebook_likes</th>\n    </tr>\n  </thead>\n  <tbody>\n    <tr>\n      <th>33</th>\n      <td>Color</td>\n      <td>Tim Burton</td>\n      <td>451.0</td>\n      <td>108.0</td>\n      <td>13000.0</td>\n      <td>11000.0</td>\n      <td>Alan Rickman</td>\n      <td>40000.0</td>\n      <td>334185206.0</td>\n      <td>Adventure|Family|Fantasy</td>\n      <td>...</td>\n      <td>736.0</td>\n      <td>English</td>\n      <td>USA</td>\n      <td>PG</td>\n      <td>200000000.0</td>\n      <td>2010.0</td>\n      <td>25000.0</td>\n      <td>6.5</td>\n      <td>1.85</td>\n      <td>24000</td>\n    </tr>\n    <tr>\n      <th>3</th>\n      <td>Color</td>\n      <td>Christopher Nolan</td>\n      <td>813.0</td>\n      <td>164.0</td>\n      <td>22000.0</td>\n      <td>23000.0</td>\n      <td>Christian Bale</td>\n      <td>27000.0</td>\n      <td>448130642.0</td>\n      <td>Action|Thriller</td>\n      <td>...</td>\n      <td>2701.0</td>\n      <td>English</td>\n      <td>USA</td>\n      <td>PG-13</td>\n      <td>250000000.0</td>\n      <td>2012.0</td>\n      <td>23000.0</td>\n      <td>8.5</td>\n      <td>2.35</td>\n      <td>164000</td>\n    </tr>\n    <tr>\n      <th>4</th>\n      <td>NaN</td>\n      <td>Doug Walker</td>\n      <td>NaN</td>\n      <td>NaN</td>\n      <td>131.0</td>\n      <td>NaN</td>\n      <td>Rob Walker</td>\n      <td>131.0</td>\n      <td>NaN</td>\n      <td>Documentary</td>\n      <td>...</td>\n      <td>NaN</td>\n      <td>NaN</td>\n      <td>NaN</td>\n      <td>NaN</td>\n      <td>NaN</td>\n      <td>NaN</td>\n      <td>12.0</td>\n      <td>7.1</td>\n      <td>NaN</td>\n      <td>0</td>\n    </tr>\n  </tbody>\n</table>\n<p>3 rows × 28 columns</p>\n</div>"
     },
     "execution_count": 18,
     "metadata": {},
     "output_type": "execute_result"
    }
   ],
   "source": [
    "movie.iloc[[33,3,4]]"
   ],
   "metadata": {
    "collapsed": false,
    "ExecuteTime": {
     "end_time": "2023-06-20T14:19:01.638970500Z",
     "start_time": "2023-06-20T14:19:01.607963100Z"
    }
   }
  },
  {
   "cell_type": "markdown",
   "source": [
    "Sélection  de ligne et colonnes"
   ],
   "metadata": {
    "collapsed": false
   }
  },
  {
   "cell_type": "code",
   "execution_count": 20,
   "outputs": [
    {
     "data": {
      "text/plain": "   color  actor_3_facebook_likes       budget\n4    NaN                     NaN          NaN\n5  Color                   530.0  263700000.0\n6  Color                  4000.0  258000000.0\n7  Color                   284.0  260000000.0",
      "text/html": "<div>\n<style scoped>\n    .dataframe tbody tr th:only-of-type {\n        vertical-align: middle;\n    }\n\n    .dataframe tbody tr th {\n        vertical-align: top;\n    }\n\n    .dataframe thead th {\n        text-align: right;\n    }\n</style>\n<table border=\"1\" class=\"dataframe\">\n  <thead>\n    <tr style=\"text-align: right;\">\n      <th></th>\n      <th>color</th>\n      <th>actor_3_facebook_likes</th>\n      <th>budget</th>\n    </tr>\n  </thead>\n  <tbody>\n    <tr>\n      <th>4</th>\n      <td>NaN</td>\n      <td>NaN</td>\n      <td>NaN</td>\n    </tr>\n    <tr>\n      <th>5</th>\n      <td>Color</td>\n      <td>530.0</td>\n      <td>263700000.0</td>\n    </tr>\n    <tr>\n      <th>6</th>\n      <td>Color</td>\n      <td>4000.0</td>\n      <td>258000000.0</td>\n    </tr>\n    <tr>\n      <th>7</th>\n      <td>Color</td>\n      <td>284.0</td>\n      <td>260000000.0</td>\n    </tr>\n  </tbody>\n</table>\n</div>"
     },
     "execution_count": 20,
     "metadata": {},
     "output_type": "execute_result"
    }
   ],
   "source": [
    "movie.iloc[4:8, [0,5,22]]"
   ],
   "metadata": {
    "collapsed": false,
    "ExecuteTime": {
     "end_time": "2023-06-20T14:22:40.479102200Z",
     "start_time": "2023-06-20T14:22:40.457104Z"
    }
   }
  },
  {
   "cell_type": "code",
   "execution_count": 23,
   "outputs": [
    {
     "data": {
      "text/plain": "   duration  director_facebook_likes  actor_3_facebook_likes     actor_2_name  \\\n4       NaN                    131.0                     NaN       Rob Walker   \n5     132.0                    475.0                   530.0  Samantha Morton   \n6     156.0                      0.0                  4000.0     James Franco   \n7     100.0                     15.0                   284.0     Donna Murphy   \n\n   actor_1_facebook_likes        gross  \n4                   131.0          NaN  \n5                   640.0   73058679.0  \n6                 24000.0  336530303.0  \n7                   799.0  200807262.0  ",
      "text/html": "<div>\n<style scoped>\n    .dataframe tbody tr th:only-of-type {\n        vertical-align: middle;\n    }\n\n    .dataframe tbody tr th {\n        vertical-align: top;\n    }\n\n    .dataframe thead th {\n        text-align: right;\n    }\n</style>\n<table border=\"1\" class=\"dataframe\">\n  <thead>\n    <tr style=\"text-align: right;\">\n      <th></th>\n      <th>duration</th>\n      <th>director_facebook_likes</th>\n      <th>actor_3_facebook_likes</th>\n      <th>actor_2_name</th>\n      <th>actor_1_facebook_likes</th>\n      <th>gross</th>\n    </tr>\n  </thead>\n  <tbody>\n    <tr>\n      <th>4</th>\n      <td>NaN</td>\n      <td>131.0</td>\n      <td>NaN</td>\n      <td>Rob Walker</td>\n      <td>131.0</td>\n      <td>NaN</td>\n    </tr>\n    <tr>\n      <th>5</th>\n      <td>132.0</td>\n      <td>475.0</td>\n      <td>530.0</td>\n      <td>Samantha Morton</td>\n      <td>640.0</td>\n      <td>73058679.0</td>\n    </tr>\n    <tr>\n      <th>6</th>\n      <td>156.0</td>\n      <td>0.0</td>\n      <td>4000.0</td>\n      <td>James Franco</td>\n      <td>24000.0</td>\n      <td>336530303.0</td>\n    </tr>\n    <tr>\n      <th>7</th>\n      <td>100.0</td>\n      <td>15.0</td>\n      <td>284.0</td>\n      <td>Donna Murphy</td>\n      <td>799.0</td>\n      <td>200807262.0</td>\n    </tr>\n  </tbody>\n</table>\n</div>"
     },
     "execution_count": 23,
     "metadata": {},
     "output_type": "execute_result"
    }
   ],
   "source": [
    "\n",
    "movie.loc[4:7 , 'duration' : 'gross']"
   ],
   "metadata": {
    "collapsed": false,
    "ExecuteTime": {
     "end_time": "2023-06-20T14:30:29.572270200Z",
     "start_time": "2023-06-20T14:30:29.543069100Z"
    }
   }
  },
  {
   "cell_type": "markdown",
   "source": [
    "Sélection avec condition"
   ],
   "metadata": {
    "collapsed": false
   }
  },
  {
   "cell_type": "code",
   "execution_count": 24,
   "outputs": [
    {
     "data": {
      "text/plain": "count                 4814\nunique                2397\ntop       Steven Spielberg\nfreq                    26\nName: director_name, dtype: object"
     },
     "execution_count": 24,
     "metadata": {},
     "output_type": "execute_result"
    }
   ],
   "source": [
    "movie[\"director_name\"].describe()"
   ],
   "metadata": {
    "collapsed": false,
    "ExecuteTime": {
     "end_time": "2023-06-20T14:42:42.509635400Z",
     "start_time": "2023-06-20T14:42:42.463359200Z"
    }
   }
  },
  {
   "cell_type": "code",
   "execution_count": 32,
   "outputs": [
    {
     "data": {
      "text/plain": "7.480769230769232"
     },
     "execution_count": 32,
     "metadata": {},
     "output_type": "execute_result"
    }
   ],
   "source": [
    "condi = movie['director_name'] == 'Steven Spielberg'\n",
    "steven = movie[condi]\n",
    "steven['imdb_score'].mean()"
   ],
   "metadata": {
    "collapsed": false,
    "ExecuteTime": {
     "end_time": "2023-06-20T14:46:33.828693400Z",
     "start_time": "2023-06-20T14:46:33.818668500Z"
    }
   }
  },
  {
   "cell_type": "code",
   "execution_count": 34,
   "outputs": [
    {
     "data": {
      "text/plain": "1123    France\n4791    France\nName: country, dtype: object"
     },
     "execution_count": 34,
     "metadata": {},
     "output_type": "execute_result"
    }
   ],
   "source": [
    "cond1 = movie['language']==\"French\"\n",
    "cond2 = movie['duration'] < 60\n",
    "movie[cond1 & cond2].country"
   ],
   "metadata": {
    "collapsed": false,
    "ExecuteTime": {
     "end_time": "2023-06-20T15:04:42.394579300Z",
     "start_time": "2023-06-20T15:04:42.381005800Z"
    }
   }
  },
  {
   "cell_type": "code",
   "execution_count": 40,
   "outputs": [
    {
     "data": {
      "text/plain": "Text(0.5, 1.0, 'histogramme ')"
     },
     "execution_count": 40,
     "metadata": {},
     "output_type": "execute_result"
    },
    {
     "data": {
      "text/plain": "<Figure size 640x480 with 1 Axes>",
      "image/png": "[encoded data removed]"
     },
     "metadata": {},
     "output_type": "display_data"
    }
   ],
   "source": [
    "movie['color'].value_counts().plot.bar()\n",
    "plt.title(\"histogramme \")"
   ],
   "metadata": {
    "collapsed": false,
    "ExecuteTime": {
     "end_time": "2023-06-20T15:45:33.314557400Z",
     "start_time": "2023-06-20T15:45:33.169542100Z"
    }
   }
  }
 ],
 "metadata": {
  "kernelspec": {
   "display_name": "Python 3",
   "language": "python",
   "name": "python3"
  },
  "language_info": {
   "codemirror_mode": {
    "name": "ipython",
    "version": 2
   },
   "file_extension": ".py",
   "mimetype": "text/x-python",
   "name": "python",
   "nbconvert_exporter": "python",
   "pygments_lexer": "ipython2",
   "version": "2.7.6"
  }
 },
 "nbformat": 4,
 "nbformat_minor": 0
}
